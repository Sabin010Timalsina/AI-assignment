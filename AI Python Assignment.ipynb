{
  "nbformat": 4,
  "nbformat_minor": 0,
  "metadata": {
    "colab": {
      "provenance": [],
      "toc_visible": true
    },
    "kernelspec": {
      "name": "python3",
      "display_name": "Python 3"
    },
    "language_info": {
      "name": "python"
    }
  },
  "cells": [
    {
      "cell_type": "markdown",
      "source": [
        " Q1. Write a program to find prime number with in a range using function"
      ],
      "metadata": {
        "id": "9G3fRV3_LW4T"
      }
    },
    {
      "cell_type": "code",
      "execution_count": 1,
      "metadata": {
        "colab": {
          "base_uri": "https://localhost:8080/"
        },
        "id": "ZWwL9zhdKDiM",
        "outputId": "c66d331e-75e5-46ff-9f86-1c319421dacf"
      },
      "outputs": [
        {
          "output_type": "stream",
          "name": "stdout",
          "text": [
            "Enter the starting number of the range: 1\n",
            "Enter the ending number of the range: 20\n",
            "Prime numbers between 1 and 20 are:\n",
            "2\n",
            "3\n",
            "5\n",
            "7\n",
            "11\n",
            "13\n",
            "17\n",
            "19\n"
          ]
        }
      ],
      "source": [
        "#Prime number within a range using function\n",
        "def is_prime(n):\n",
        "    if n < 2:\n",
        "        return False\n",
        "    for i in range(2, int(n**0.5) + 1):\n",
        "        if n % i == 0:\n",
        "            return False\n",
        "    return True\n",
        "start = int(input(\"Enter the starting number of the range: \"))\n",
        "end = int(input(\"Enter the ending number of the range: \"))\n",
        "print(\"Prime numbers between\", start, \"and\", end, \"are:\")\n",
        "for num in range(start, end+1):\n",
        "    if is_prime(num):\n",
        "        print(num)"
      ]
    },
    {
      "cell_type": "markdown",
      "source": [
        "Q2. Write a program to check palindrome"
      ],
      "metadata": {
        "id": "vxgqVmttMMAa"
      }
    },
    {
      "cell_type": "code",
      "source": [
        "#Program to check palindrome number\n",
        "n=int(input(\"Enter number:\"))\n",
        "temp=n\n",
        "rev=0\n",
        "while(n>0):\n",
        "    dig=n%10\n",
        "    rev=rev*10+dig\n",
        "    n=n//10\n",
        "if(temp==rev):\n",
        "    print(\"The number is a palindrome!\")\n",
        "else:\n",
        "    print(\"The number isn't a palindrome!\")"
      ],
      "metadata": {
        "colab": {
          "base_uri": "https://localhost:8080/"
        },
        "id": "GmTn7NunMBUf",
        "outputId": "e67cae77-48fc-47f1-d9b1-8fb8b3800b75"
      },
      "execution_count": 3,
      "outputs": [
        {
          "output_type": "stream",
          "name": "stdout",
          "text": [
            "Enter number:34543\n",
            "The number is a palindrome!\n"
          ]
        }
      ]
    },
    {
      "cell_type": "markdown",
      "source": [
        "Q3. Write a program to generate the Fibonacci sequence of a given number."
      ],
      "metadata": {
        "id": "ra48FWV4Nbv3"
      }
    },
    {
      "cell_type": "code",
      "source": [
        "# Program to display the Fibonacci sequence\n",
        "nterms = int(input(\"How many terms? \"))\n",
        "n1, n2 = 0, 1\n",
        "count = 0\n",
        "if nterms <= 0:\n",
        "   print(\"Please enter a positive integer\")\n",
        "elif nterms == 1:\n",
        "   print(\"Fibonacci sequence upto\",nterms,\":\")\n",
        "   print(n1)\n",
        "else:\n",
        "   print(\"Fibonacci sequence:\")\n",
        "   while count < nterms:\n",
        "       print(n1)\n",
        "       nth = n1 + n2\n",
        "       n1 = n2\n",
        "       n2 = nth\n",
        "       count += 1"
      ],
      "metadata": {
        "colab": {
          "base_uri": "https://localhost:8080/"
        },
        "id": "YW1Na2Z1MQ8_",
        "outputId": "707e1f46-291b-4f7b-c524-f8ef0c076075"
      },
      "execution_count": 7,
      "outputs": [
        {
          "output_type": "stream",
          "name": "stdout",
          "text": [
            "How many terms? 14\n",
            "Fibonacci sequence:\n",
            "0\n",
            "1\n",
            "1\n",
            "2\n",
            "3\n",
            "5\n",
            "8\n",
            "13\n",
            "21\n",
            "34\n",
            "55\n",
            "89\n",
            "144\n",
            "233\n"
          ]
        }
      ]
    },
    {
      "cell_type": "markdown",
      "source": [
        "Q4. Create a number guessing game. Where you have to generate a random number in between 1 to 100 and user have to prompt a number for guess. if its high or low number let the user know and guide them through the process to guess correct number.\n"
      ],
      "metadata": {
        "id": "CY1ay8hLPXpM"
      }
    },
    {
      "cell_type": "code",
      "source": [
        "#Python program to create a number guessing game\n",
        "import random\n",
        "\n",
        "def guess_number():\n",
        "    secret_number = random.randint(1, 100)\n",
        "    attempts = 0\n",
        "\n",
        "    print(\"Welcome to the Number Guessing Game!\")\n",
        "    print(\"I have selected a number between 1 and 100. Try to guess it.\")\n",
        "\n",
        "    while True:\n",
        "        guess = input(\"Enter your guess (or 'exit' to end the game): \")\n",
        "        if guess.lower() == 'exit':\n",
        "            print(\"Thanks for playing. Goodbye!\")\n",
        "            break\n",
        "        try:\n",
        "            guess = int(guess)\n",
        "        except ValueError:\n",
        "            print(\"Please enter a valid number.\")\n",
        "            continue\n",
        "        attempts += 1\n",
        "        if guess == secret_number:\n",
        "            print(f\"Congratulations! You guessed the number {secret_number} correctly in {attempts} attempts.\")\n",
        "            break\n",
        "        elif guess < secret_number:\n",
        "            print(\"The number is higher. Try again.\")\n",
        "        else:\n",
        "            print(\"The number is lower. Try again.\")\n",
        "\n",
        "guess_number()\n"
      ],
      "metadata": {
        "colab": {
          "base_uri": "https://localhost:8080/"
        },
        "id": "AMOyi4WBNiAm",
        "outputId": "3fbbd43c-f5ca-4fda-983b-83da25ecbb48"
      },
      "execution_count": 8,
      "outputs": [
        {
          "output_type": "stream",
          "name": "stdout",
          "text": [
            "Welcome to the Number Guessing Game!\n",
            "I have selected a number between 1 and 100. Try to guess it.\n",
            "Enter your guess (or 'exit' to end the game): 23\n",
            "The number is lower. Try again.\n",
            "Enter your guess (or 'exit' to end the game): 13\n",
            "The number is higher. Try again.\n",
            "Enter your guess (or 'exit' to end the game): 16\n",
            "The number is higher. Try again.\n",
            "Enter your guess (or 'exit' to end the game): 18\n",
            "The number is lower. Try again.\n",
            "Enter your guess (or 'exit' to end the game): 17\n",
            "Congratulations! You guessed the number 17 correctly in 5 attempts.\n"
          ]
        }
      ]
    }
  ]
}